{
 "cells": [
  {
   "cell_type": "code",
   "execution_count": 1,
   "metadata": {
    "collapsed": true
   },
   "outputs": [],
   "source": [
    "from configs import cfg\n",
    "from data.loader import load\n",
    "from data.preprocessing import Encoders, Scalers, PCA\n",
    "from engine.trainer import do_fine_tune, do_cross_val, do_train\n",
    "from model import DecisionTree, LogisticRegression, SVM, RandomForest\n",
    "from model.based import Model\n",
    "from model.based.tuning_mode import TuningMode\n",
    "from utils import RuntimeMode"
   ]
  },
  {
   "cell_type": "code",
   "execution_count": 2,
   "outputs": [
    {
     "name": "stderr",
     "output_type": "stream",
     "text": [
      "100%|██████████| 10/10 [00:00<00:00, 408.46it/s]"
     ]
    },
    {
     "name": "stdout",
     "output_type": "stream",
     "text": [
      "start training...\n",
      "[LibSVM]evaluation...\n",
      "score is 0.8852097130242825\n"
     ]
    },
    {
     "name": "stderr",
     "output_type": "stream",
     "text": [
      "\n"
     ]
    }
   ],
   "source": [
    "bank = load(cfg)  # create dataset object instance\n",
    "bank.load_dataset()  # load data from csv file\n",
    "bank.age()  # convert the range of the age's values to [1,2,3,4]\n",
    "bank.duration()  # convert the range of the duration's values to [1,2,3,4,5]\n",
    "bank.drop_cols()  # drop columns\n",
    "\n",
    "model_selection = cfg.BASIC.MODEL  # select the model\n",
    "if model_selection == Model.SVM:\n",
    "    model = SVM(cfg=cfg)\n",
    "elif model_selection == Model.DECISION_TREE:\n",
    "    model = DecisionTree(cfg=cfg)\n",
    "elif model_selection == Model.RANDOM_FOREST:\n",
    "    model = RandomForest(cfg=cfg)\n",
    "elif model_selection == Model.LOGISTIC_REGRESSION:\n",
    "    model = LogisticRegression(cfg=cfg)\n",
    "\n",
    "encoder = Encoders(cdg=cfg)  # initialize Encoder object\n",
    "scaler = Scalers(cfg=cfg)  # initialize scaler object\n",
    "pca = None\n",
    "if cfg.BASIC.PCA:  # PCA object will be initialized if you set pca = True in configs file\n",
    "    pca = PCA(cfg=cfg)\n",
    "\n",
    "runtime_mode = cfg.BASIC.RUNTIME_MODE  # mode that you want to run this code\n",
    "if runtime_mode == RuntimeMode.TRAIN:\n",
    "    do_train(cfg=cfg, dataset=bank, model=model, encoder=encoder, scaler=scaler, pca=pca)\n",
    "elif runtime_mode == RuntimeMode.CROSS_VAL:\n",
    "    do_cross_val(cfg=cfg, dataset=bank, model=model, encoder=encoder, scaler=scaler, pca=pca)\n",
    "elif runtime_mode == RuntimeMode.TUNING:\n",
    "    do_fine_tune(cfg=cfg, dataset=bank, model=model, encoder=encoder, scaler=scaler,\n",
    "                 method=TuningMode.GRID_SEARCH)\n",
    "if runtime_mode == RuntimeMode.FEATURE_IMPORTANCE:\n",
    "    do_train(cfg=cfg, dataset=bank, model=model, encoder=encoder, scaler=scaler, pca=pca, feature_importance=True)"
   ],
   "metadata": {
    "collapsed": false,
    "pycharm": {
     "name": "#%%\n"
    }
   }
  }
 ],
 "metadata": {
  "kernelspec": {
   "display_name": "Python 3",
   "language": "python",
   "name": "python3"
  },
  "language_info": {
   "codemirror_mode": {
    "name": "ipython",
    "version": 2
   },
   "file_extension": ".py",
   "mimetype": "text/x-python",
   "name": "python",
   "nbconvert_exporter": "python",
   "pygments_lexer": "ipython2",
   "version": "2.7.6"
  }
 },
 "nbformat": 4,
 "nbformat_minor": 0
}